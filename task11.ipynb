{
 "cells": [
  {
   "cell_type": "markdown",
   "metadata": {},
   "source": [
    "Задача 1 任务 1\n",
    "Нужно написать две программы: Первая создает бинарный файл (min 2Гб), состоящий из случайных 32-разрядных беззнаковых целых чисел (big endian). Вторая считает сумму этих чисел (с применением длинной арифметики), находит минимальное и максимальное число.\n",
    "您需要编写两个程序：第一个程序创建一个二进制文件（最小 2GB），由随机的 32 位无符号整数（大端序）组成。第二个计算这些数字的总和（使用长算术），找到最小和最大数字。\n",
    "\n",
    "Реализуйте две версии -\n",
    "实现两个版本 -\n",
    "\n",
    "Простое последовательное чтение\n",
    "简单的顺序读取\n",
    "Многопоточная + memory-mapped files. Сравните время работы.\n",
    "多线程 + 内存映射文件。比较开放时间。"
   ]
  },
  {
   "cell_type": "markdown",
   "metadata": {},
   "source": [
    "创建二进制文件\n",
    "Первая создает бинарный файл (min 2Гб), состоящий из случайных 32-разрядных беззнаковых целых чисел (big endian). "
   ]
  },
  {
   "cell_type": "code",
   "execution_count": 1,
   "metadata": {},
   "outputs": [],
   "source": [
    "import struct\n",
    "import random\n",
    "\n",
    "def create_file(filename, size=2):\n",
    "    num_bytes = size * 1024*1024*1024 \n",
    "    num_integers = num_bytes // 4  \n",
    "    \n",
    "    with open(filename, 'wb') as f:\n",
    "        for _ in range(num_integers):\n",
    "            integer = random.randint(0, 2**32-1)\n",
    "            f.write(struct.pack('>I', integer))  \n",
    "\n",
    "create_file('mydata')\n"
   ]
  },
  {
   "cell_type": "markdown",
   "metadata": {},
   "source": [
    "读取文件并进行计算,\n",
    "Вторая считает сумму этих чисел (с применением длинной арифметики), находит минимальное и максимальное число."
   ]
  },
  {
   "cell_type": "code",
   "execution_count": 2,
   "metadata": {},
   "outputs": [
    {
     "name": "stdout",
     "output_type": "stream",
     "text": [
      "Sum: 1152901223462466054 Min: 3 Max: 4294967294\n"
     ]
    }
   ],
   "source": [
    "import os\n",
    "import struct\n",
    "\n",
    "\n",
    "def read_and_calculate(filename):\n",
    "    sum_num = 0\n",
    "    min_num = float('inf')\n",
    "    max_num = float('-inf')\n",
    "\n",
    "    with open(filename, 'rb') as f:\n",
    "        while True:\n",
    "            bytes_read = f.read(4)\n",
    "            if not bytes_read:\n",
    "                break\n",
    "            num = struct.unpack('>I', bytes_read)[0]\n",
    "            sum_num += num\n",
    "            if num < min_num:\n",
    "                min_num = num\n",
    "            if num > max_num:\n",
    "                max_num = num\n",
    "    return sum_num, min_num, max_num\n",
    "\n",
    "result = read_and_calculate('mydata')\n",
    "print(\"Sum:\", result[0], \"Min:\", result[1], \"Max:\", result[2])\n"
   ]
  },
  {
   "cell_type": "markdown",
   "metadata": {},
   "source": [
    "多线程和内存映射文件.\n",
    "Многопоточная + memory-mapped files"
   ]
  },
  {
   "cell_type": "code",
   "execution_count": 4,
   "metadata": {},
   "outputs": [
    {
     "name": "stdout",
     "output_type": "stream",
     "text": [
      "Sum: 1152901223462466054 Min: 3 Max: 4294967294\n"
     ]
    }
   ],
   "source": [
    "import mmap\n",
    "import threading\n",
    "\n",
    "def process_chunk(start, end, mm):\n",
    "    sum_num = 0\n",
    "    min_num = float('inf')\n",
    "    max_num = float('-inf')\n",
    "    \n",
    "    for i in range(start, end, 4):\n",
    "        num = struct.unpack('>I', mm[i:i+4])[0]\n",
    "        sum_num += num\n",
    "        if num < min_num:\n",
    "            min_num = num\n",
    "        if num > max_num:\n",
    "            max_num = num\n",
    "    return sum_num, min_num, max_num\n",
    "\n",
    "def process_file(filename):\n",
    "    with open(filename, 'rb') as file:\n",
    "        mm = mmap.mmap(file.fileno(), 0, access=mmap.ACCESS_READ)\n",
    "        threads = []\n",
    "        results = []\n",
    "        size = len(mm) // 4  \n",
    "        \n",
    "        for i in range(4):\n",
    "            start = i * size\n",
    "            end = start + size\n",
    "            thread = threading.Thread(target=lambda q, arg1, arg2, arg3: q.append(process_chunk(arg1, arg2, arg3)),args=(results, start, end, mm))\n",
    "            threads.append(thread)\n",
    "            thread.start()\n",
    "        for thread in threads:\n",
    "            thread.join()\n",
    "        mm.close()\n",
    "\n",
    "    summ= sum(x[0] for x in results)\n",
    "    minn = min(x[1] for x in results)\n",
    "    maxx = max(x[2] for x in results)\n",
    "    return summ, minn, maxx\n",
    "\n",
    "result =process_file('mydata')\n",
    "print(\"Sum:\", result[0], \"Min:\", result[1], \"Max:\", result[2])"
   ]
  },
  {
   "cell_type": "markdown",
   "metadata": {},
   "source": [
    "比较两者时间.\n",
    " Сравните время работы."
   ]
  },
  {
   "cell_type": "code",
   "execution_count": 5,
   "metadata": {},
   "outputs": [
    {
     "name": "stdout",
     "output_type": "stream",
     "text": [
      "顺序读取时间 Простое последовательное чтение:120.08 s\n",
      "多线程读取时间 Многопоточная + memory-mapped files:97.13 s\n"
     ]
    }
   ],
   "source": [
    "import time\n",
    "\n",
    "start_time = time.time()\n",
    "read_and_calculate('mydata')\n",
    "print(\"顺序读取时间 Простое последовательное чтение:{:.2f} s\".format(time.time() - start_time))\n",
    "\n",
    "start_time = time.time()\n",
    "process_file('mydata')\n",
    "print(\"多线程读取时间 Многопоточная + memory-mapped files:{:.2f} s\".format(time.time() - start_time))\n"
   ]
  }
 ],
 "metadata": {
  "kernelspec": {
   "display_name": "Python 3",
   "language": "python",
   "name": "python3"
  },
  "language_info": {
   "codemirror_mode": {
    "name": "ipython",
    "version": 3
   },
   "file_extension": ".py",
   "mimetype": "text/x-python",
   "name": "python",
   "nbconvert_exporter": "python",
   "pygments_lexer": "ipython3",
   "version": "3.12.0"
  }
 },
 "nbformat": 4,
 "nbformat_minor": 2
}
