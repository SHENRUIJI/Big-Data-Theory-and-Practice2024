{
 "cells": [
  {
   "cell_type": "markdown",
   "metadata": {},
   "source": [
    "创建二进制文件\n",
    "Первая создает бинарный файл (min 2Гб), состоящий из случайных 32-разрядных беззнаковых целых чисел (big endian). "
   ]
  },
  {
   "cell_type": "code",
   "execution_count": 1,
   "metadata": {},
   "outputs": [],
   "source": [
    "import os\n",
    "import struct\n",
    "import random\n",
    "\n",
    "def create_binary_file(filename, size_in_gb=2):\n",
    "    num_bytes = size_in_gb * (1024**3)  \n",
    "    # 将GB转换为字节\n",
    "    num_integers = num_bytes // 4  \n",
    "    # 计算32位整数的数量\n",
    "\n",
    "    with open(filename, 'wb') as f:\n",
    "        for _ in range(num_integers):\n",
    "            integer = random.randint(0, 0xFFFFFFFF)\n",
    "            f.write(struct.pack('>I', integer))  \n",
    "            # 以大端模式写入Big-Endian\n",
    "\n",
    "create_binary_file('mydata')\n"
   ]
  },
  {
   "cell_type": "markdown",
   "metadata": {},
   "source": [
    "读取文件并进行计算,\n",
    "Вторая считает сумму этих чисел (с применением длинной арифметики), находит минимальное и максимальное число."
   ]
  },
  {
   "cell_type": "code",
   "execution_count": 2,
   "metadata": {},
   "outputs": [
    {
     "name": "stdout",
     "output_type": "stream",
     "text": [
      "Sum: 1152966617501680374 Min: 32 Max: 4294967293\n"
     ]
    }
   ],
   "source": [
    "import os\n",
    "import struct\n",
    "import random\n",
    "\n",
    "def read_and_calculate(filename):\n",
    "    sum_numbers = 0\n",
    "    min_number = float('inf')\n",
    "    max_number = float('-inf')\n",
    "\n",
    "    with open(filename, 'rb') as f:\n",
    "        while True:\n",
    "            bytes_read = f.read(4)\n",
    "            if not bytes_read:\n",
    "                break\n",
    "            number = struct.unpack('>I', bytes_read)[0]\n",
    "            sum_numbers += number\n",
    "            if number < min_number:\n",
    "                min_number = number\n",
    "            if number > max_number:\n",
    "                max_number = number\n",
    "    return sum_numbers, min_number, max_number\n",
    "\n",
    "result = read_and_calculate('mydata')\n",
    "print(\"Sum:\", result[0], \"Min:\", result[1], \"Max:\", result[2])\n"
   ]
  },
  {
   "cell_type": "markdown",
   "metadata": {},
   "source": [
    "多线程和内存映射文件.\n",
    "Многопоточная + memory-mapped files"
   ]
  },
  {
   "cell_type": "code",
   "execution_count": 3,
   "metadata": {},
   "outputs": [
    {
     "name": "stdout",
     "output_type": "stream",
     "text": [
      "Sum: 1152966617501680374 Min: 32 Max: 4294967293\n"
     ]
    }
   ],
   "source": [
    "import mmap\n",
    "import threading\n",
    "\n",
    "def process_chunk(mm, offset, size):\n",
    "    local_sum = 0\n",
    "    local_min = float('inf')\n",
    "    local_max = float('-inf')\n",
    "    for i in range(offset, offset + size, 4):\n",
    "        number = struct.unpack('>I', mm[i:i+4])[0]\n",
    "        local_sum += number\n",
    "        if number < local_min:\n",
    "            local_min = number\n",
    "        if number > local_max:\n",
    "            local_max = number\n",
    "    return local_sum, local_min, local_max\n",
    "\n",
    "def threaded_read_and_calculate(filename, num_threads=4):\n",
    "    file_size = os.path.getsize(filename)\n",
    "    chunk_size = file_size // num_threads\n",
    "\n",
    "    with open(filename, 'r+b') as f:\n",
    "        mm = mmap.mmap(f.fileno(), 0)\n",
    "        threads = []\n",
    "        results = []\n",
    "\n",
    "        for i in range(num_threads):\n",
    "            offset = i * chunk_size\n",
    "            size = chunk_size if i < num_threads - 1 else file_size - offset\n",
    "            thread = threading.Thread(target=lambda q, arg1, arg2, arg3: q.append(process_chunk(arg1, arg2, arg3)),\n",
    "                                      args=(results, mm, offset, size))\n",
    "            threads.append(thread)\n",
    "            thread.start()\n",
    "\n",
    "        for thread in threads:\n",
    "            thread.join()\n",
    "\n",
    "        total_sum = sum(x[0] for x in results)\n",
    "        total_min = min(x[1] for x in results)\n",
    "        total_max = max(x[2] for x in results)\n",
    "    return total_sum, total_min, total_max\n",
    "\n",
    "result = threaded_read_and_calculate('mydata')\n",
    "print(\"Sum:\", result[0], \"Min:\", result[1], \"Max:\", result[2])\n"
   ]
  },
  {
   "cell_type": "markdown",
   "metadata": {},
   "source": [
    "比较两者时间.\n",
    " Сравните время работы."
   ]
  },
  {
   "cell_type": "code",
   "execution_count": 4,
   "metadata": {},
   "outputs": [
    {
     "name": "stdout",
     "output_type": "stream",
     "text": [
      "顺序读取时间 Простое последовательное чтение:73.46 s\n",
      "多线程读取时间 Многопоточная + memory-mapped files:95.09 s\n"
     ]
    }
   ],
   "source": [
    "import time\n",
    "\n",
    "start_time = time.time()\n",
    "read_and_calculate('random_integers.bin')\n",
    "print(\"顺序读取时间 Простое последовательное чтение:{:.2f} s\".format(time.time() - start_time))\n",
    "\n",
    "start_time = time.time()\n",
    "threaded_read_and_calculate('random_integers.bin')\n",
    "print(\"多线程读取时间 Многопоточная + memory-mapped files:{:.2f} s\".format(time.time() - start_time))\n"
   ]
  }
 ],
 "metadata": {
  "kernelspec": {
   "display_name": "Python 3",
   "language": "python",
   "name": "python3"
  },
  "language_info": {
   "codemirror_mode": {
    "name": "ipython",
    "version": 3
   },
   "file_extension": ".py",
   "mimetype": "text/x-python",
   "name": "python",
   "nbconvert_exporter": "python",
   "pygments_lexer": "ipython3",
   "version": "3.12.0"
  }
 },
 "nbformat": 4,
 "nbformat_minor": 2
}
