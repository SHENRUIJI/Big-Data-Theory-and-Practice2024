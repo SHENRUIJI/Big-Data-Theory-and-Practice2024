{
 "cells": [
  {
   "cell_type": "markdown",
   "metadata": {},
   "source": [
    "# Задача 2 任务 2\n",
    "1.Сгенерируйте, содержащий 50000 32-битных случайных целых чисел, каждое число на отдельной строке.\n",
    "生成包含 50000 个 32 位随机整数，每个数字在单独的行上。\n",
    "\n",
    "2.Посчитать, какое суммарное количество простых множителей присутствует при факторизации всех чисел. Например, пусть всего два числа: 6 и 8. 6 = 2 * 3, 8 = 2 * 2 * 2. Ответ 5.\n",
    "计算因式分解所有数字时存在的质因数总数。例如，假设只有两个数字：6 和 8。6 = 2 * 3,8 = 2 * 2 * 2。答5.\n",
    "\n",
    "3.Реализовать подсчет 实现计数\n",
    "\n",
    "  простым последовательным алгоритмом\n",
    "  简单的顺序算法\n",
    "  многопоточно (на CPython - multiprocessing), с использованием примитивов синхронизации\n",
    "  多线程（CPython 上的多处理），使用同步原语\n",
    "  с помощью Ray/Dask/PySpark\n",
    "  使用 Ray/Dask/PySpark\n",
    "  (*) с использованием Go (go-рутин) / корутин на Kotlin\n",
    "  （*） 在 Kotlin 中使用 Go （go-routine） / 协程\n",
    "4.Измерить время выполнения для каждого случая.\n",
    "测量每个案例的执行时间。"
   ]
  },
  {
   "cell_type": "markdown",
   "metadata": {},
   "source": [
    "# 1.Сгенерируйте, содержащий 50000 32-битных случайных целых чисел, каждое число на отдельной строке.\n",
    "生成包含 50000 个 32 位随机整数，每个数字在单独的行上。"
   ]
  },
  {
   "cell_type": "code",
   "execution_count": null,
   "metadata": {},
   "outputs": [],
   "source": [
    "import random\n",
    "\n",
    "with open('data2.txt', 'w') as file:\n",
    "    for _ in range(50000):\n",
    "        num = random.randint(-2147483648, 2147483647)\n",
    "        file.write(f\"{num}\\n\")\n"
   ]
  },
  {
   "cell_type": "markdown",
   "metadata": {},
   "source": [
    "# Посчитать, какое суммарное количество простых множителей присутствует при факторизации всех чисел. Например, пусть всего два числа: 6 и 8. 6 = 2 * 3, 8 = 2 * 2 * 2. Ответ 5.простым последовательным алгоритмом\n",
    "简单的顺序算法\n",
    "计算因式分解所有数字时存在的质因数总数。例如，假设只有两个数字：6 和 8。6 = 2 * 3,8 = 2 * 2 * 2。答5."
   ]
  },
  {
   "cell_type": "code",
   "execution_count": 6,
   "metadata": {},
   "outputs": [
    {
     "name": "stdout",
     "output_type": "stream",
     "text": [
      "总质因数个数 Количество факторов общего качества： 102898\n"
     ]
    }
   ],
   "source": [
    "def calculate(num):\n",
    "    factors = []\n",
    "    i = 2\n",
    "    while i * i <= num:\n",
    "        if num % i == 0:\n",
    "            factors.append(i)\n",
    "            num = num // i\n",
    "        else:\n",
    "            i += 1\n",
    "    if num > 1:\n",
    "        factors.append(num)\n",
    "    return len(factors)\n",
    "\n",
    "# 打开包含随机整数的文件\n",
    "with open('data2.txt', 'r') as file:\n",
    "    result = 0\n",
    "    for line in file:\n",
    "        number = int(line.strip())\n",
    "        result += calculate(number)\n",
    "\n",
    "print(\"总质因数个数 Количество факторов общего качества：\", result)\n"
   ]
  },
  {
   "cell_type": "markdown",
   "metadata": {},
   "source": [
    " # многопоточно (на CPython - multiprocessing), с использованием примитивов синхронизации"
   ]
  },
  {
   "cell_type": "markdown",
   "metadata": {},
   "source": [
    "\n",
    "# Поскольку я не мог запустить multiprocessing в Jupyter, я поместил этот блок кода в файл task22.py."
   ]
  },
  {
   "cell_type": "markdown",
   "metadata": {},
   "source": [
    "# с помощью Dask\n",
    "使用 Ray/Dask/PySpark"
   ]
  },
  {
   "cell_type": "code",
   "execution_count": 9,
   "metadata": {},
   "outputs": [
    {
     "name": "stdout",
     "output_type": "stream",
     "text": [
      "       number\n",
      "0  1334259689\n",
      "1  1108738542\n",
      "2  -331276288\n",
      "3 -1742890076\n",
      "4   571301911\n",
      "102898\n"
     ]
    }
   ],
   "source": [
    "import dask.dataframe as dd\n",
    "\n",
    "def calculate(num):\n",
    "    factors = []\n",
    "    i = 2\n",
    "    while i * i <= num:\n",
    "        if num % i == 0:\n",
    "            factors.append(i)\n",
    "            num = num // i\n",
    "        else:\n",
    "            i += 1\n",
    "    if num > 1:\n",
    "        factors.append(num)\n",
    "    return len(factors)  \n",
    "#  读取文件\n",
    "df = dd.read_csv('data2.txt', header=None, names=['number'], dtype={'number': 'int64'}, blocksize=None)\n",
    "\n",
    "# \n",
    "print(df.head())\n",
    "\n",
    "\n",
    "# 应用函数到每一行，并计算总和\n",
    "count = df['number'].map(calculate, meta=('number', 'int64')).sum().compute()\n",
    "\n",
    "print(count)\n"
   ]
  },
  {
   "cell_type": "markdown",
   "metadata": {},
   "source": [
    "# Измерить время выполнения для каждого случая.\n",
    "测量每个案例的执行时间。"
   ]
  },
  {
   "cell_type": "code",
   "execution_count": 11,
   "metadata": {},
   "outputs": [
    {
     "name": "stdout",
     "output_type": "stream",
     "text": [
      "顺序读取时间 Простое последовательное чтение:7.50 s\n",
      "\n",
      "\n",
      "使用Dask с помощью Ray/Dask/PySpark:7.25 s\n"
     ]
    }
   ],
   "source": [
    "import time\n",
    "from concurrent.futures import ThreadPoolExecutor, as_completed\n",
    "import dask.dataframe as dd\n",
    "\n",
    "# 简单的顺序算法\n",
    "def method1():\n",
    "    def calculate(num):\n",
    "        factors = []\n",
    "        i = 2\n",
    "        while i * i <= num:\n",
    "            if num % i == 0:\n",
    "                factors.append(i)\n",
    "                num = num // i\n",
    "            else:\n",
    "                i += 1\n",
    "        if num > 1:\n",
    "            factors.append(num)\n",
    "        return len(factors)\n",
    "\n",
    "    start_time = time.time()\n",
    "    result = 0\n",
    "    with open('data2.txt', 'r') as file:\n",
    "        for line in file:\n",
    "            number = int(line.strip())\n",
    "            result += calculate(number)\n",
    "    end_time = time.time()\n",
    "    print(\"顺序读取时间 Простое последовательное чтение:{:.2f} s\".format(end_time - start_time))\n",
    "\n",
    "\n",
    "\n",
    "\n",
    "# 使用 Dask 的方法\n",
    "def method3():\n",
    "    def calculate(num):\n",
    "        factors = []\n",
    "        i = 2\n",
    "        while i * i <= num:\n",
    "            if num % i == 0:\n",
    "                factors.append(i)\n",
    "                num = num // i\n",
    "            else:\n",
    "                i += 1\n",
    "        if num > 1:\n",
    "            factors.append(num)\n",
    "        return len(factors)\n",
    "\n",
    "    start_time = time.time()\n",
    "    df = dd.read_csv('data2.txt', header=None, names=['number'], dtype={'number': 'int64'}, blocksize=None)\n",
    "    count = df['number'].map(calculate, meta=('number', 'int64')).sum().compute()\n",
    "    \n",
    "    end_time = time.time()\n",
    "    \n",
    "    print(\"使用Dask с помощью Ray/Dask/PySpark:{:.2f} s\".format(end_time - start_time))\n",
    "\n",
    "\n",
    "method1()\n",
    "print('\\n')\n",
    "method3()\n"
   ]
  }
 ],
 "metadata": {
  "kernelspec": {
   "display_name": "Python 3",
   "language": "python",
   "name": "python3"
  },
  "language_info": {
   "codemirror_mode": {
    "name": "ipython",
    "version": 3
   },
   "file_extension": ".py",
   "mimetype": "text/x-python",
   "name": "python",
   "nbconvert_exporter": "python",
   "pygments_lexer": "ipython3",
   "version": "3.12.0"
  }
 },
 "nbformat": 4,
 "nbformat_minor": 2
}
