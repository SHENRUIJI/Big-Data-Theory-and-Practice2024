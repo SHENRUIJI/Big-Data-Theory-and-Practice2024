{
 "cells": [
  {
   "cell_type": "markdown",
   "metadata": {},
   "source": [
    "# Задание 3"
   ]
  },
  {
   "cell_type": "markdown",
   "metadata": {},
   "source": [
    "\n",
    "1.Напишите программу, которая находит самое длинное слово."
   ]
  },
  {
   "cell_type": "code",
   "execution_count": 2,
   "metadata": {},
   "outputs": [
    {
     "name": "stderr",
     "output_type": "stream",
     "text": [
      "2024-05-01 21:44:47,549\tINFO worker.py:1752 -- Started a local Ray instance.\n"
     ]
    },
    {
     "name": "stdout",
     "output_type": "stream",
     "text": [
      "Самое длинное слово: dreihundertvierundsechzigtausendachthundertneunzehn\n"
     ]
    }
   ],
   "source": [
    "import re\n",
    "import ray\n",
    "\n",
    "ray.init()  \n",
    "\n",
    "@ray.remote\n",
    "def process_line(line):\n",
    "    line = re.sub(r'http\\S+', '', line)\n",
    "    text_matches = re.findall(r'\\b[а-яА-Яa-zA-Z]+\\b', line, flags=re.U)  # 匹配所有单词\n",
    "    return text_matches\n",
    "\n",
    "\n",
    "\n",
    "words= []\n",
    "with open('wiki.txt' , 'r', encoding='utf-8',errors='ignore') as file:\n",
    "    lines = file.readlines()\n",
    "    for line in lines:\n",
    "        future = process_line.remote(line)\n",
    "        words.append(future)\n",
    "\n",
    "\n",
    "# 收集所有单词\n",
    "all_words = ray.get(words)  \n",
    "all_words = [word for sublist in all_words for word in sublist]  # 展平列表\n",
    "unique_words = set(all_words) \n",
    "\n",
    "\n",
    "# 找到最长的单词\n",
    "longest_word = max(unique_words, key=len) if unique_words else \"\"\n",
    "\n",
    "\n",
    "\n",
    "print(\"Самое длинное слово:\", longest_word)\n",
    "\n",
    "ray.shutdown() \n"
   ]
  },
  {
   "cell_type": "markdown",
   "metadata": {},
   "source": [
    "2.Напишите программу, которая находит среднюю длину слов."
   ]
  },
  {
   "cell_type": "code",
   "execution_count": 3,
   "metadata": {},
   "outputs": [
    {
     "name": "stderr",
     "output_type": "stream",
     "text": [
      "2024-05-01 21:47:00,269\tINFO worker.py:1752 -- Started a local Ray instance.\n"
     ]
    },
    {
     "name": "stdout",
     "output_type": "stream",
     "text": [
      "Средняя длина слов.: 6.25\n"
     ]
    }
   ],
   "source": [
    "import re\n",
    "import ray\n",
    "\n",
    "ray.init() \n",
    "\n",
    "@ray.remote\n",
    "def process_line(line):\n",
    "    line = re.sub(r'http\\S+', '', line)\n",
    "    text_matches = re.findall(r'\\b[а-яА-Яa-zA-Z]+\\b', line, flags=re.U)  # 匹配所有单词\n",
    "    return text_matches\n",
    "\n",
    "\n",
    "words= []\n",
    "with open('wiki.txt' , 'r', encoding='utf-8', errors='ignore') as file:\n",
    "    lines = file.readlines()\n",
    "    for line in lines:\n",
    "        future = process_line.remote(line)\n",
    "        words.append(future)\n",
    "\n",
    "\n",
    "# 收集所有单词\n",
    "all_words = ray.get(words)  \n",
    "all_words = [word for sublist in all_words for word in sublist]  # 展平列表\n",
    "unique_words = set(all_words) \n",
    "\n",
    "\n",
    "\n",
    "# 计算单词的平均长度\n",
    "total_length = sum(len(word) for word in all_words)\n",
    "average_length = total_length / len(all_words) if all_words else 0\n",
    "\n",
    "\n",
    "print(f\"Средняя длина слов.: {average_length:.2f}\")\n",
    "\n",
    "\n",
    "\n",
    "ray.shutdown() "
   ]
  },
  {
   "cell_type": "markdown",
   "metadata": {},
   "source": [
    "3.Напишите программу, которая находит самое частоупотребляемое слово, состоящее из латинских букв."
   ]
  },
  {
   "cell_type": "code",
   "execution_count": 5,
   "metadata": {},
   "outputs": [
    {
     "name": "stderr",
     "output_type": "stream",
     "text": [
      "2024-05-01 21:54:19,438\tINFO worker.py:1752 -- Started a local Ray instance.\n"
     ]
    },
    {
     "name": "stdout",
     "output_type": "stream",
     "text": [
      "Самые распространенные слова, состоящие из латинских букв, - это: 'II' (appeared 3816 times)\n"
     ]
    }
   ],
   "source": [
    "import re\n",
    "import ray\n",
    "from collections import Counter\n",
    "\n",
    "ray.init() \n",
    "\n",
    "@ray.remote\n",
    "def process_line(line):\n",
    "   \n",
    "    line = re.sub(r'http\\S+', '', line)\n",
    " \n",
    "    latin_words = re.findall(r'\\b[a-zA-Z][a-zA-Z]+\\b', line)  \n",
    "    return latin_words\n",
    "\n",
    "words= []\n",
    "with open('wiki.txt' , 'r', encoding='utf-8', errors='ignore') as file:\n",
    "    lines = file.readlines()\n",
    "    for line in lines:\n",
    "        future = process_line.remote(line)\n",
    "        words.append(future)\n",
    "\n",
    "\n",
    "# 收集所有单词\n",
    "all_words = ray.get(words)  \n",
    "all_words = [word for sublist in all_words for word in sublist]  # 展平列表\n",
    "\n",
    "\n",
    "\n",
    "\n",
    "# 使用 Counter 计算单词出现频率\n",
    "word_counts = Counter(all_words)\n",
    "\n",
    "# 移除空字符串\n",
    "word_counts.pop('', None)\n",
    "\n",
    "# 找到最常出现的单词\n",
    "most_common_word = word_counts.most_common(1)[0]\n",
    "\n",
    "\n",
    "print(f\"Самые распространенные слова, состоящие из латинских букв, - это: '{most_common_word[0]}' (appeared {most_common_word[1]} times)\")\n",
    "\n",
    "ray.shutdown()  "
   ]
  },
  {
   "cell_type": "markdown",
   "metadata": {},
   "source": [
    "4.Все слова, которые более чем в половине случаев начинаются с большой буквы и встречаются больше 10 раз."
   ]
  },
  {
   "cell_type": "code",
   "execution_count": 7,
   "metadata": {},
   "outputs": [
    {
     "name": "stderr",
     "output_type": "stream",
     "text": [
      "2024-05-01 21:59:57,665\tINFO worker.py:1752 -- Started a local Ray instance.\n"
     ]
    },
    {
     "name": "stdout",
     "output_type": "stream",
     "text": [
      "Все слова, которые более чем в половине случаев начинаются с большой буквы и встречаются больше 10 раз- это:\n",
      "['XIII', 'XIV', 'XVI', 'XVIII', 'XX', 'II', 'XXI', 'Rail', 'FM', 'III', 'IV', 'XVII', 'Russia', 'VI', 'VII', 'VIII', 'IX', 'XII', 'XV', 'XIX', 'Freedom', 'House', 'Transparency', 'International', 'Ernst', 'Young', 'Internet', 'World', 'Media', 'XI', 'XXII', 'Nature', 'Communications', 'Forbes', 'Me', 'NATO', 'King', 'College', 'Service', 'Authority', 'XXVII', 'XXVIII', 'Ford', 'Toyota', 'General', 'Motors', 'Nissan', 'Hyundai', 'Motor', 'METRO', 'Real', 'Group', 'Moody', 'Standard', 'Dance', 'Open', 'DVB', 'PS', 'Cour', 'Tribunal', 'Conseil', 'DOM', 'Le', 'Monde', 'Oil', 'France', 'National', 'TGV', 'RER', 'Express', 'Regional', 'Air', 'Space', 'Art', 'Street', 'Blue', 'MC', 'Les', 'Centre', 'Radio', 'Paris', 'Point', 'Metro', 'The', 'Oracle', 'Bank', 'Siemens', 'Airbus', 'All', 'Mini', 'One', 'New', 'Age', 'Christ', 'It', 'BBC', 'NET', 'TV', 'Alpha', 'Great', 'Park', 'AV', 'Terra', 'Research', 'Network', 'Il', 'La', 'UTC', 'Moscow', 'Time', 'Zone', 'MSK', 'Mercer', 'GSM', 'UMTS', 'CDMA', 'LTE', 'Yota', 'De', 'Europe', 'Deutsche', 'Deutscher', 'Landes', 'Berlin', 'BMW', 'Bahn', 'Wave', 'Cinema', 'Collection', 'Control', 'Ru', 'Die', 'Oberlandesgericht', 'Oberverwaltungsgericht', 'Ray', 'Iron', 'Beatles', 'Rolling', 'Stones', 'London', 'Eye', 'English', 'Respect', 'BP', 'Royal', 'Shell', 'Financial', 'Times', 'City', 'Transport', 'Dial', 'Ride', 'British', 'Airways', 'UK', 'Power', 'Networks', 'Energy', 'Water', 'Show', 'Home', 'Sky', 'Square', 'Jean', 'Homo', 'United', 'Britannica', 'Union', 'Act', 'Virgin', 'Atlantic', 'Systems', 'Studios', 'BAFTA', 'News', 'Corporation', 'Sun', 'Queen', 'Deep', 'Purple', 'Judas', 'Priest', 'Black', 'Sabbath', 'Maiden', 'Who', 'Led', 'Zeppelin', 'Pink', 'Floyd', 'Depeche', 'Mode', 'Boys', 'Arctic', 'Franz', 'East', 'Plan', 'Sex', 'Pistols', 'God', 'Foundation', 'Day', 'High', 'DVD', 'Esperanto', 'Microsoft', 'Word', 'GNU', 'Linux', 'Ubuntu', 'Mandriva', 'Alt', 'Li', 'YouTube', 'OpenOffice', 'Mozilla', 'Firefox', 'Google', 'Android', 'Second', 'Life', 'Boeing', 'ISBN', 'Nova', 'OH', 'NaCl', 'LLC', 'Si', 'Hell', 'Society', 'ISO', 'Kodak', 'Blu', 'MS', 'MIDI', 'CD', 'Digital', 'Inc', 'Dolby', 'Laboratories', 'VoIP', 'Mobile', 'Aqua', 'Michael', 'Rock', 'Brothers', 'Film', 'WTA', 'NaOH', 'He', 'Ne', 'Ar', 'Kr', 'Xe', 'Rn', 'Cl', 'Br', 'At', 'Se', 'Ge', 'As', 'Sb', 'Te', 'Na', 'IUPAC', 'Science', 'SU', 'HLA', 'RT', 'PR', 'Gag', 'Rev', 'China', 'McDonald', 'Subway', 'Europa', 'Via', 'NO', 'NMDA', 'Wild', 'CH', 'IBM', 'PC', 'Intel', 'AMD', 'Cyrix', 'VIA', 'Windows', 'CP', 'Apple', 'Computer', 'Commodore', 'GUI', 'Macintosh', 'Mac', 'OS', 'BSD', 'Unix', 'Window', 'Max', 'Doom', 'LiveCD', 'Hewlett', 'Packard', 'ZX', 'Spectrum', 'USB', 'Sub', 'Core', 'Robert', 'European', 'Journal', 'TCP', 'IP', 'Wide', 'Web', 'WWW', 'RFC', 'ARPANET', 'NSF', 'NSFNet', 'Usenet', 'Relay', 'IRC', 'HTTP', 'HTML', 'URI', 'Mosaic', 'FTP', 'IETF', 'OSI', 'ICQ', 'UDP', 'Chrome', 'Explorer', 'Safari', 'Opera', 'URL', 'DNS', 'BitTorrent', 'Skype', 'Galaxy', 'Community', 'RSS', 'Net', 'Applications', 'Northern', 'Light', 'Yahoo', 'Sony', 'Information', 'Services', 'Microsystems', 'Capital', 'Morgan', 'Graphics', 'Earth', 'Technologies', 'AOL', 'Nokia', 'Ericsson', 'Fox', 'Interactive', 'Global', 'Motorola', 'Fortune', 'Code', 'Jam', 'Talk', 'API', 'Engine', 'Wi', 'Fi', 'Facebook', 'Report', 'Project', 'On', 'To', 'Have', 'Map', 'CO', 'CN', 'Pt', 'In', 'KOH', 'HCl', 'Fe', 'Mn', 'Cu', 'Ga', 'Ag', 'Ba', 'Tl', 'Pb', 'Ca', 'SO', 'Hg', 'ZnO', 'Zn', 'HBr', 'Encyclopedia', 'XXVI', 'XXIII', 'You', 'KCl', 'James', 'Russian', 'Language', 'Monthly', 'Index', 'Laboratory', 'If', 'After', 'Let', 'Yellow', 'Salt', 'CS', 'Co', 'HF', 'Louis', 'John', 'George', 'HD', 'Mg', 'Al', 'Cs', 'Ni', 'Economist', 'XXIV', 'Principia', 'Electric', 'CaO', 'BN', 'RC', 'Sn', 'Cd', 'Cr', 'Ti', 'Au', 'MX', 'SCN', 'NH', 'Guardian', 'IT', 'RPG', 'Death', 'VAX', 'Pentium', 'Half', 'RS', 'NAD', 'Ka', 'El', 'Universal', 'Pictures', 'CAS', 'Industries', 'Orange', 'VIP', 'Maria', 'Studio', 'Jazz', 'Plus', 'MTV', 'Alfa', 'No', 'Eesti', 'Grupp', 'AS', 'ID', 'Paul', 'An', 'XXV', 'AB', 'Joy', 'Music', 'People', 'Magazine', 'Empire', 'American', 'Institute', 'USA', 'Awards', 'Center', 'Award', 'Head', 'Japan', 'Ad', 'IPTV', 'SOHO', 'BY', 'NASA', 'Mission', 'STS', 'Genesis', 'Atlas', 'Dynamic', 'Sol', 'Weekly', 'Justice', 'River', 'Physics', 'CRC', 'Press', 'XXX', 'Historia', 'EUR', 'York', 'Volvo', 'Basic', 'Type', 'Shanghai', 'Velvet', 'Little', 'Dragon', 'Metal', 'Dark', 'Lake', 'Sonic', 'Dead', 'Lord', 'Stars', 'Steve', 'Industrial', 'Television', 'Newsweek', 'Fund', 'Peace', 'AA', 'Children', 'EC', 'Philips', 'Delta', 'Ltd', 'Bi', 'Be', 'Pd', 'IIB', 'AM', 'Don', 'Modern', 'Review', 'Zeitung', 'Bus', 'AG', 'Jude', 'Charles', 'Green', 'Warner', 'Bros', 'Of', 'Heaven', 'Metallica', 'Rainbow', 'Band', 'For', 'Planet', 'Am', 'BCP', 'FeO', 'Middle', 'What', 'Is', 'System', 'Th', 'Mars', 'Warhammer', 'IA', 'Unicode', 'IEC', 'Book', 'FDL', 'Free', 'License', 'GPL', 'SA', 'Debian', 'FTN', 'RU', 'AT', 'ATM', 'NNTP', 'SMTP', 'Protocol', 'SSL', 'MIT', 'IMAP', 'Exchange', 'Server', 'MDA', 'MTA', 'Outlook', 'Thunderbird', 'ASCII', 'MIME', 'PGP', 'BBS', 'ANSI', 'BeOS', 'PowerPC', 'Classic', 'Computing', 'Edition', 'Professional', 'Hitachi', 'Compaq', 'Palm', 'OpenGL', 'XML', 'Interface', 'Kit', 'SCSI', 'RSA', 'Delphi', 'Object', 'Pascal', 'Borland', 'ARM', 'CE', 'GCC', 'Java', 'POSIX', 'Turbo', 'Corp', 'Enterprise', 'IDE', 'PHP', 'Hello', 'Security', 'DoS', 'TTL', 'Records', 'Top', 'Level', 'ICANN', 'SSH', 'Telnet', 'NAT', 'POP', 'TLS', 'SFTP', 'File', 'Transfer', 'UTF', 'DDoS', 'Gnutella', 'Napster', 'Public', 'SOAP', 'RPC', 'Apache', 'GET', 'Not', 'POST', 'Content', 'Accept', 'Access', 'User', 'CGI', 'DEC', 'Mail', 'IM', 'List', 'ACL', 'UID', 'Message', 'AmigaOS', 'UNIX', 'Zilog', 'PDP', 'Technology', 'NEC', 'Semiconductor', 'DX', 'SP', 'SS', 'DS', 'BIOS', 'Organization', 'Committee', 'Office', 'Source', 'ECMA', 'XMPP', 'Jabber', 'LiveJournal', 'MSN', 'Software', 'Platform', 'Telecom', 'SMS', 'Assembler', 'Hurd', 'Library', 'FreeBSD', 'GMT', 'Fedora', 'MThd', 'MTrk', 'FF', 'Program', 'BPM', 'This', 'Audio', 'MPEG', 'JPEG', 'Bell', 'Labs', 'CBR', 'Rate', 'Vorbis', 'Alcatel', 'Lucent', 'NTP', 'David', 'GPS', 'Best', 'DOS', 'Manager', 'Database', 'EE', 'HPFS', 'FAT', 'REXX', 'Adobe', 'Data', 'Warp', 'Netscape', 'Lite', 'Novell', 'NetBIOS', 'Desktop', 'Management', 'Business', 'NT', 'Version', 'NTFS', 'Visual', 'Bash', 'AIX', 'NFS', 'Ogg', 'Org', 'LGPL', 'Perl', 'ASP', 'MySQL', 'GTK', 'Qt', 'Mono', 'Zend', 'CMS', 'PDF', 'CLI', 'Framework', 'Python', 'Live', 'SCO', 'Santa', 'Operation', 'Red', 'Hat', 'We', 'Association', 'UCS', 'SIM', 'Box', 'Post', 'Format', 'Smart', 'SPA', 'Spam', 'AES', 'ZIP', 'Application', 'IANA', 'Finger', 'HTTPS', 'SNMP', 'ICMP', 'DHCP', 'Ethernet', 'IEEE', 'PPP', 'MAC', 'ARP', 'SQL', 'US', 'MediaWiki', 'JavaScript', 'Sr', 'Watch', 'States', 'PostgreSQL', 'TeX', 'OpenSolaris', 'CC', 'Washington', 'Festival', 'Deutschland', 'Stories', 'Greenpeace', 'Doors', 'San', 'Generation', 'Vista', 'Social', 'Club', 'Amiga', 'Phone', 'SAP', 'Online', 'Road', 'Pro', 'Theatre', 'Productions', 'Pierre', 'Love', 'PNG', 'MHz', 'IMAX', 'Division', 'Cash', 'Carry', 'Star', 'Airlines', 'Days', 'Class', 'Human', 'Hi', 'Museum', 'Kunst', 'Slot', 'Daily', 'Nacional', 'Petroleum', 'Eagle', 'Company', 'Today', 'ATV', 'Magic', 'Australia', 'Forum', 'School', 'AC', 'DC', 'End', 'Summer', 'USD', 'Peugeot', 'Los', 'Force', 'Grand', 'Warcraft', 'State', 'Development', 'Bombardier', 'Hans', 'Van', 'Total', 'Common', 'Honda', 'Electronics', 'Alliance', 'ARD', 'Front', 'District', 'North', 'Devil', 'Films', 'Pater', 'Contra', 'PL', 'Alexander', 'Neue', 'Acta', 'Dei', 'Formula', 'Der', 'Simon', 'Jan', 'Deus', 'With', 'Canon', 'Dasein', 'DK', 'Mart', 'Your', 'Silver', 'ASPLinux', 'RPM', 'Cat', 'Team', 'Slackware', 'Gentoo', 'NetBSD', 'KDE', 'GNOME', 'Maker', 'SPARC', 'MIPS', 'RISC', 'Informix', 'Eclipse', 'Emacs', 'Vim', 'Machine', 'PlayStation', 'Knoppix', 'ALT', 'Get', 'ROM', 'Codex', 'Ave', 'OTP', 'Nintendo', 'Steel', 'Mitsubishi', 'Railway', 'IIA', 'Islands', 'Lines', 'Limited', 'Guide', 'ST', 'Lufthansa', 'Board', 'Tour', 'Golden', 'Quantum', 'EV', 'DO', 'DJ', 'Play', 'Laibach', 'Abbey', 'Pacific', 'Chevrolet', 'Samsung', 'Central', 'Smalltalk', 'CLR', 'VB', 'COM', 'Mater', 'Verborum', 'Renault', 'FoxPro', 'VFP', 'Thomas', 'Bay', 'William', 'Party', 'League', 'Sunday', 'Agency', 'ETH', 'Native', 'Oberon', 'Programming', 'Conference', 'Columbia', 'Youth', 'America', 'Arena', 'XP', 'Land', 'Transit', 'Port', 'Long', 'Island', 'Line', 'CBS', 'Wall', 'West', 'GM', 'GE', 'Electro', 'Motive', 'Engineering', 'Chicago', 'Western', 'Diesel', 'Series', 'Mercedes', 'Benz', 'Big', 'Boy', 'CERN', 'PSR', 'Physical', 'JVM', 'Ruby', 'JIT', 'Flash', 'Player', 'St', 'Palace', 'Solaris', 'Miller', 'Fiction', 'Dr', 'Master', 'Orion', 'Ex', 'Fantasy', 'Tribune', 'Junior', 'Sc', 'Please', 'Stone', 'Sgt', 'Pepper', 'Lonely', 'Hearts', 'Hotel', 'Quarrymen', 'Do', 'McCartney', 'Storm', 'My', 'Saints', 'Cavern', 'EMI', 'How', 'LP', 'From', 'Girl', 'She', 'Night', 'Want', 'Billboard', 'Capitol', 'Can', 'That', 'Hard', 'Help', 'Yesterday', 'Rubber', 'Soul', 'Original', 'Out', 'Revolver', 'Tomorrow', 'Never', 'Good', 'Fields', 'Forever', 'Hey', 'White', 'Pass', 'Back', 'Something', 'So', 'Heavy', 'And', 'War', 'Masters', 'Roll', 'Songs', 'Heart', 'Mr', 'Beach', 'Blues', 'Man', 'Kinks', 'Rhapsody', 'Hot', 'Gibson', 'Yamaha', 'Scientific', 'MATLAB', 'Mathematica', 'ZFC', 'EuroVelo', 'Mind', 'Moon', 'Peter', 'ADSL', 'Bad', 'CPython', 'ABC', 'Jython', 'Fortran', 'Tcl', 'Tk', 'Scheme', 'Icon', 'Forth', 'LISP', 'GIL', 'Micro', 'Lisp', 'GOTO', 'ML', 'PostScript', 'Haskell', 'APL', 'Rex', 'Dictionary', 'Amnesty', 'Rights', 'Cisco', 'ISDN', 'Sea', 'NZ', 'Area', 'Law', 'Council', 'Super', 'FIA', 'Intelligence', 'Defense', 'UTA', 'Moses', 'Twin', 'Airport', 'Stadt', 'Angel', 'IATA', 'ICAO', 'Church', 'Discovery', 'Spiegel', 'Richard', 'Caesar', 'GmbH', 'Excel', 'Zr', 'Institut', 'Arts', 'Professor', 'Small', 'Alfred', 'Mi', 'SVO', 'Might', 'Heroes', 'Ph', 'CDC', 'Things', 'Model', 'IQ', 'PEAR', 'Ukraine', 'Disney', 'Mach', 'CVS', 'Ultra', 'Vision', 'Horse', 'MSD', 'SGML', 'DTD', 'XSLT', 'XPath', 'CSS', 'Xerox', 'HP', 'WYSIWYG', 'Martin', 'CGB', 'Rundfunk', 'Das', 'Welle', 'History', 'Toronto', 'University', 'Kiss', 'Hall', 'Chart', 'Technical', 'Template', 'Objective', 'DSL', 'Spirit', 'BASIC', 'QBasic', 'Multics', 'VM', 'UX', 'Fujitsu', 'UltraSPARC', 'Creek', 'MPlayer', 'OpenBSD', 'Liber', 'Next', 'Communication', 'NADH', 'Jesus', 'Opteron', 'Xeon', 'Fire', 'Texas', 'Instruments', 'SunOS', 'Release', 'SUSE', 'StarOffice', 'Volkswagen', 'Johnson', 'Bridge', 'UBS', 'IRS', 'Three', 'Mark', 'Like', 'YMCA', 'Ikarus', 'Sinclair', 'Design', 'ACE', 'ACM', 'Women', 'Game', 'Unreal', 'Jones', 'DNSBL', 'XHTML', 'SVG', 'GML', 'Augustus', 'ESA', 'SpaceShipOne', 'Minor', 'ACK', 'First', 'Adidas', 'TR', 'CLOS', 'California', 'NIL', 'Hill', 'VLIW', 'Are', 'Ramones', 'Underground', 'Go', 'Flag', 'Pixies', 'Throbbing', 'Gristle', 'Teen', 'Puppets', 'Sweet', 'Prize', 'Nike', 'Associates', 'Call', 'GURPS', 'Games', 'Dungeons', 'Dragons', 'Advanced', 'Nirvana', 'Felis', 'Comics', 'Compact', 'Disc', 'RW', 'Electronic', 'MMORPG', 'Pop', 'Nevermind', 'Jim', 'Men', 'Soundgarden', 'Alice', 'Tribute', 'Six', 'Geffen', 'Smells', 'Entertainment', 'Utero', 'Baby', 'Yardbirds', 'Cream', 'Orchestra', 'Pat', 'Metheny', 'Blood', 'Erlang', 'OCaml', 'Mo', 'Song', 'Ta', 'Field', 'Price', 'Battle', 'OVA', 'Bleach', 'Video', 'Anime', 'Azumanga', 'Daioh', 'Production', 'Shonen', 'Tokyopop', 'Comic', 'Kodansha', 'Nikon', 'Slayer', 'Last', 'MMX', 'Thesis', 'South', 'Rambler', 'IgG', 'IgM', 'Idol', 'RTS', 'SCTP', 'SYN', 'Ghibli', 'SM', 'LHC', 'Drive', 'ISOC', 'Animage', 'FPS', 'Train', 'DSM', 'SETI', 'HI', 'Evangelion', 'Gainax', 'Wings', 'Her', 'Re', 'Navigator', 'Gecko', 'WebKit', 'Carl', 'VHS', 'Reality', 'LDAP', 'Come', 'Wii', 'Auto', 'Landtag', 'Landesregierung', 'NGC', 'Henry', 'DRBL', 'Yandex', 'Holy', 'Blind', 'Academy', 'Infinitiv', 'Partizip', 'Konjunktiv', 'Itanium', 'IE', 'Francisco', 'Mandrake', 'Mountain', 'Concert', 'Mary', 'Tokyo', 'Again', 'Sound', 'Rage', 'Down', 'DES', 'SHA', 'Bourne', 'VMS', 'Allmusic', 'More', 'Whole', 'Lightning', 'Chess', 'Way', 'Album', 'Roses', 'LFN', 'OEM', 'Ranma', 'Sega', 'SSE', 'Rose', 'Channel', 'PCI', 'Suite', 'SSI', 'GIF', 'RGB', 'Cb', 'CHF', 'Dream', 'Gold', 'Alien', 'Kraftwerk', 'Temple', 'Du', 'Special', 'Atari', 'HDD', 'Bible', 'Bat', 'Family', 'CMYK', 'FORTH', 'Manowar', 'Scorpions', 'Run', 'Hina', 'Comi', 'Vuze', 'CPU', 'Dirty', 'Nine', 'Tiger', 'Cocaine', 'StG', 'Williams', 'CAM', 'Ferrari', 'McLaren', 'Nb', 'NN', 'Bluetooth', 'AWK', 'Say', 'Traveling', 'Wilburys', 'Friends', 'Arthur', 'Toolkit', 'Pentax', 'Ce', 'Must', 'DGC', 'Volume', 'HWaA', 'But', 'Pharisees', 'Acts', 'Pharisee', 'Ac', 'LDS', 'FFFF', 'Nautilus', 'Vintage', 'GHC', 'German', 'Wumpus', 'Faraday', 'INT', 'Pr', 'CART', 'Famicom', 'Tengen', 'NES', 'Tetris', 'Mitel', 'Beijing', 'AVL', 'OLAP', 'ROLAP', 'PvP', 'WebBBS', 'FTS', 'En', 'Athlon', 'FPU', 'FSB', 'Socket', 'Celeron', 'Mendocino', 'Tualatin', 'Sempron', 'DDR', 'Phenom', 'Pu', 'XYZ', 'Ficowski', 'Sart', 'Cwynar', 'Nowak', 'Massive', 'Attack', 'UMa', 'Transformers', 'IFRS', 'Coppermine', 'FC', 'Amstrad', 'Dizzy', 'Opel', 'Seiten', 'LIBOR', 'ColdFusion', 'TCR', 'MHC', 'DjVu', 'Valley', 'Cmax', 'TCmax', 'FDA', 'BWV', 'Rp', 'Valerianae', 'Tab', 'RTP', 'TTA', 'Tesla', 'FIVB', 'ACID', 'Fibre', 'Konqueror', 'WebMoney', 'WM', 'Industrie', 'Handelskammer', 'Miramax', 'Kunstsammlungen', 'Verlag', 'Magnetic', 'OGLE', 'SELinux', 'Drupal', 'RFID', 'EPC', 'Baudrillard', 'Kickstart', 'Workbench', 'Plone', 'Zope', 'Bcl', 'IAP', 'CED', 'SWOT', 'Utah', 'Wasatch', 'BITNET', 'EARN', 'Paranoid', 'MIB', 'AIESEC', 'Nerv', 'Cruel', 'Trimble']\n"
     ]
    }
   ],
   "source": [
    "import re\n",
    "from collections import Counter\n",
    "import ray\n",
    "\n",
    "ray.init()  \n",
    "\n",
    "@ray.remote\n",
    "def process_line(line):\n",
    "  \n",
    "    line = re.sub(r'http\\S+', '', line)\n",
    "    text_matches = re.findall(r'\\b[a-zA-Z][a-zA-Z]+\\b', line)\n",
    "    return text_matches\n",
    "\n",
    "\n",
    "words= []\n",
    "with open('wiki.txt' , 'r', encoding='utf-8', errors='ignore') as file:\n",
    "    lines = file.readlines()\n",
    "    for line in lines:\n",
    "        future = process_line.remote(line)\n",
    "        words.append(future)\n",
    "\n",
    "\n",
    "# 收集所有单词\n",
    "all_words = ray.get(words)  \n",
    "all_words = [word for sublist in all_words for word in sublist]  # 展平列表\n",
    "\n",
    "\n",
    "\n",
    "\n",
    "\n",
    "# 查找符合条件的单词\n",
    "word_counter = Counter(all_words)\n",
    "valid_words = [word for word, count in word_counter.items() if word[0].isupper() and count >= 10]\n",
    "\n",
    "\n",
    "\n",
    "print(\"Все слова, которые более чем в половине случаев начинаются с большой буквы и встречаются больше 10 раз- это:\")\n",
    "print(valid_words)\n",
    "\n",
    "ray.shutdown()  "
   ]
  },
  {
   "cell_type": "markdown",
   "metadata": {},
   "source": [
    "5.Напишите программу, которая с помощью статистики определяет устойчивые сокращения вида пр., др., ..."
   ]
  },
  {
   "cell_type": "code",
   "execution_count": 1,
   "metadata": {},
   "outputs": [
    {
     "name": "stderr",
     "output_type": "stream",
     "text": [
      "2024-05-01 22:19:45,597\tINFO worker.py:1752 -- Started a local Ray instance.\n"
     ]
    },
    {
     "name": "stdout",
     "output_type": "stream",
     "text": [
      "Определите форму пр.,др. устойчивой аббревиатуры:\n",
      "['ru.', 'СС.', 'см.', 'др.', 'юг.', 'ст.', 'км.', 'РФ.', 'гг.', 'мм.', 'II.', 'кг.', 'ок.', 'св.', 'вв.', 'кв.', 'ЦК.', 'им.', 'Дж.', 'пр.', 'См.', 'её.', 'го.', 'кн.', 'фр.', 'IV.', 'их.', 'ЕС.', 'VI.', 'Св.', 'ср.', 'оз.', 'га.', 'ул.', 'мн.', 'ум.', 'ПК.', 'ОС.', 'пл.', 'же.', 'IP.', 'нм.', 'гр.', 'ед.', 'рт.', 'СИ.', 'об.', 'гл.', 'шт.', 'мл.', 'ПО.', 'Си.', 'он.', 'St.', 'мг.', 'Rp.']\n"
     ]
    }
   ],
   "source": [
    "import re\n",
    "import ray\n",
    "from collections import Counter\n",
    "\n",
    "ray.init() \n",
    "\n",
    "@ray.remote\n",
    "def process_line(line):\n",
    "\n",
    "    pattern = re.compile(r'\\b[а-яА-ЯёЁa-zA-Z]{2}\\.')\n",
    "    matches = pattern.findall(line)\n",
    "    return matches\n",
    "\n",
    "\n",
    "words= []\n",
    "with open('wiki.txt' , 'r', encoding='utf-8', errors='ignore') as file:\n",
    "    lines = file.readlines()\n",
    "    for line in lines:\n",
    "        future = process_line.remote(line)\n",
    "        words.append(future)\n",
    "\n",
    "\n",
    "\n",
    "# 收集所有单词\n",
    "all_words = ray.get(words)  \n",
    "all_words = [abbr for sublist in all_words for abbr in sublist]  # 展平列表\n",
    "\n",
    "\n",
    "\n",
    "# 统计缩写出现的次数\n",
    "word_counts = Counter(all_words)\n",
    "\n",
    "# 找到出现次数超过阈值的稳定缩写\n",
    "abbreviations = [abbr for abbr, count in word_counts.items() if count >= 20]\n",
    "\n",
    "print(\"Определите форму пр.,др. устойчивой аббревиатуры:\")\n",
    "print(abbreviations)\n",
    "\n",
    "\n",
    "\n",
    "ray.shutdown()  \n"
   ]
  },
  {
   "cell_type": "markdown",
   "metadata": {},
   "source": [
    "6.Напишите программу, которая с помощью статистики определяет устойчивые сокращения вида т.п., н.э., ..."
   ]
  },
  {
   "cell_type": "code",
   "execution_count": 10,
   "metadata": {},
   "outputs": [
    {
     "name": "stderr",
     "output_type": "stream",
     "text": [
      "2024-05-01 22:11:19,629\tINFO worker.py:1752 -- Started a local Ray instance.\n"
     ]
    },
    {
     "name": "stdout",
     "output_type": "stream",
     "text": [
      "Устойчивое сокращение детерминативных форм т.п., н.э.:\n",
      "['с. ш.', 'в. д.', 'М. А.', 'С. М.', 'Н. И.', 'Д. И.', 'М. И.', 'В. В.', 'А. Н.', 'т. д.', 'т. п.', 'И. В.', 'А. И.', 'А. А.', 'В. Н.', 'М. В.', 'В. А.', 'С. В.', 'В. И.', 'А. П.', 'А. В.', 'А. М.', 'В. М.', 'А. С.', 'в. н.', 'н. э.', 'г. н.', 'ю. ш.', 'т. е.', 'Н. С.', 'Н. А.', 'т. н.', 'Н. Н.', 'а. е.', 'Л. И.', 'л. с.', 'Б. В.']\n"
     ]
    }
   ],
   "source": [
    "import re\n",
    "import ray\n",
    "from collections import Counter\n",
    "\n",
    "ray.init()  \n",
    "\n",
    "@ray.remote\n",
    "def process_line(line):\n",
    "\n",
    "    pattern = re.compile(r'\\b[а-яА-ЯёЁa-zA-Z]\\. [а-яА-ЯёЁa-zA-Z]\\.')\n",
    "    matches = pattern.findall(line)\n",
    "    return matches\n",
    "\n",
    "\n",
    "words= []\n",
    "with open('wiki.txt' , 'r', encoding='utf-8', errors='ignore') as file:\n",
    "    lines = file.readlines()\n",
    "    for line in lines:\n",
    "        future = process_line.remote(line)\n",
    "        words.append(future)\n",
    "\n",
    "\n",
    "# 收集所有单词\n",
    "all_words = ray.get(words)  \n",
    "all_words = [abbr for sublist in all_words for abbr in sublist]  # 展平列表\n",
    "\n",
    "\n",
    "# 统计缩写出现的次数\n",
    "word_counts = Counter(all_words)\n",
    "\n",
    "# 找到出现次数超过阈值的稳定缩写\n",
    "abbreviations = [abbr for abbr, count in word_counts.items() if count >= 20]\n",
    "\n",
    "print(\"Устойчивое сокращение детерминативных форм т.п., н.э.:\")\n",
    "print(abbreviations)\n",
    "\n",
    "\n",
    "ray.shutdown()  "
   ]
  }
 ],
 "metadata": {
  "kernelspec": {
   "display_name": "Python 3",
   "language": "python",
   "name": "python3"
  },
  "language_info": {
   "codemirror_mode": {
    "name": "ipython",
    "version": 3
   },
   "file_extension": ".py",
   "mimetype": "text/x-python",
   "name": "python",
   "nbconvert_exporter": "python",
   "pygments_lexer": "ipython3",
   "version": "3.8.10"
  }
 },
 "nbformat": 4,
 "nbformat_minor": 2
}
